{
 "cells": [
  {
   "cell_type": "code",
   "execution_count": 9,
   "id": "5e38751c",
   "metadata": {},
   "outputs": [
    {
     "name": "stdout",
     "output_type": "stream",
     "text": [
      "Please enter a sentence: Hello my name is Jameel and it's great to meet you\n",
      "ellohaymyayamenayisyayameeljayandyayit'syayeatgrayotayeetmayouyay\n"
     ]
    }
   ],
   "source": [
    "#I am going to build a programe which will ask the user for a sentence and then convert the entire sentence into space language. \n",
    "\n",
    "#First get the sentence from the user\n",
    "\n",
    "original = input(\"Please enter a sentence: \").strip().lower()\n",
    "\n",
    "#Split sentence into words\n",
    "\n",
    "words=original.split() \n",
    "\n",
    "\n",
    "#Loop through the words and convert to latin\n",
    "#For each word in the sentence if that word starts with a vowel we will add \"yay\" to the end of the word.\n",
    "#This will then be placed in our new words list. \n",
    "\n",
    "new_words =[]\n",
    "\n",
    "for word in words:\n",
    "    if word[0] in \"aeiou\":\n",
    "        new_word = word + \"yay\"\n",
    "        new_words.append(new_word)\n",
    "    else:\n",
    "        vowel_pos = 0\n",
    "        for letter in word:\n",
    "            if letter not in \"aeiou\":\n",
    "                vowel_pos = vowel_pos + 1\n",
    "            else:\n",
    "                break\n",
    "        cons = word[:vowel_pos]\n",
    "        the_rest = word[vowel_pos:]\n",
    "        new_word = the_rest+cons+\"ay\"\n",
    "        new_words.append(new_word)\n",
    "\n",
    "#if it is a vowel we need to stop looping through\n",
    "#If it starts with a vowel just add \"yay\" \n",
    "#otherwise, moce the first consonant cluster to the end, and add \"ay\" \n",
    "\n",
    "\n",
    "#Stick words back together in a sentence\n",
    "\n",
    "output = \"\".join(new_words)\n",
    "\n",
    "print(output)\n",
    "#Output the final string\n",
    "\n"
   ]
  },
  {
   "cell_type": "code",
   "execution_count": null,
   "id": "66dbcf64",
   "metadata": {},
   "outputs": [],
   "source": []
  },
  {
   "cell_type": "code",
   "execution_count": null,
   "id": "3d600efd",
   "metadata": {},
   "outputs": [],
   "source": []
  }
 ],
 "metadata": {
  "kernelspec": {
   "display_name": "Python 3 (ipykernel)",
   "language": "python",
   "name": "python3"
  },
  "language_info": {
   "codemirror_mode": {
    "name": "ipython",
    "version": 3
   },
   "file_extension": ".py",
   "mimetype": "text/x-python",
   "name": "python",
   "nbconvert_exporter": "python",
   "pygments_lexer": "ipython3",
   "version": "3.9.12"
  }
 },
 "nbformat": 4,
 "nbformat_minor": 5
}
